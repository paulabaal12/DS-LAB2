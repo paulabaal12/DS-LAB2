{
 "cells": [
  {
   "cell_type": "markdown",
   "id": "c3bc909c",
   "metadata": {},
   "source": [
    "### LABORATORIO #2 \n",
    "\n",
    "- Diego Duarte\n",
    "- Paula Barilals"
   ]
  },
  {
   "cell_type": "code",
   "execution_count": null,
   "id": "d5ee5ada",
   "metadata": {},
   "outputs": [
    {
     "name": "stdout",
     "output_type": "stream",
     "text": [
      "Datos de entrenamiento: 60000\n",
      "Datos de prueba: 10000\n",
      "Forma de X_entreno: (60000, 28, 28)\n",
      "Forma de X_prueba: (10000, 28, 28)\n"
     ]
    },
    {
     "data": {
      "image/png": "[encoded data removed]",
      "text/plain": [
       "<Figure size 640x480 with 1 Axes>"
      ]
     },
     "metadata": {},
     "output_type": "display_data"
    }
   ],
   "source": [
    "import numpy as np\n",
    "import tensorflow as tf\n",
    "\n",
    "(X_entreno, y_entreno), (X_prueba, y_prueba) = tf.keras.datasets.mnist.load_data()\n",
    "\n",
    "# Imprimir cantidad de datos de entrenamiento y prueba\n",
    "print(f\"Datos de entrenamiento: {X_entreno.shape[0]}\")\n",
    "print(f\"Datos de prueba: {X_prueba.shape[0]}\")\n",
    "\n",
    "# Mostrar forma de los datos\n",
    "print(f\"Forma de X_entreno: {X_entreno.shape}\")\n",
    "print(f\"Forma de X_prueba: {X_prueba.shape}\")\n",
    "\n",
    "# Preprocesamiento: normalizar imágenes a rango [0, 1]\n",
    "X_entreno = X_entreno.astype('float32') / 255.0\n",
    "X_prueba = X_prueba.astype('float32') / 255.0\n",
    "\n",
    "# Convertir etiquetas a one-hot encoding\n",
    "y_entreno = tf.keras.utils.to_categorical(y_entreno, 10)\n",
    "y_prueba = tf.keras.utils.to_categorical(y_prueba, 10)\n",
    "\n",
    "# ejemplo de imagen y etiqueta\n",
    "import matplotlib.pyplot as plt\n",
    "plt.imshow(X_entreno[0], cmap='gray')\n",
    "plt.title(f\"Etiqueta: {np.argmax(y_entreno[0])}\")\n",
    "plt.show()"
   ]
  },
  {
   "cell_type": "markdown",
   "id": "5006f77d",
   "metadata": {},
   "source": [
    "### 1. Modificación del Ancho de la Red (8 puntos)\n",
    "- Modifique el tamaño de la capa escondida a 200 neuronas.\n",
    "- Experimente con diferentes tamaños de capa escondida (50, 100, 300, 500) y determine\n",
    "cuál ofrece el mejor rendimiento\n",
    "\n",
    "1. ¿Cómo cambia la precisión de validación del modelo?\n",
    "\n",
    "2. ¿Cuánto tiempo tarda el algoritmo en entrenar?\n",
    "\n"
   ]
  },
  {
   "cell_type": "code",
   "execution_count": null,
   "id": "750e7e0d",
   "metadata": {},
   "outputs": [
    {
     "name": "stdout",
     "output_type": "stream",
     "text": [
      "Capa escondida: 50 neuronas\n",
      "  Precisión de validación final: 0.9595\n",
      "  Pérdida de validación final: 0.1326\n",
      "----------------------------------------\n",
      "Capa escondida: 100 neuronas\n",
      "  Precisión de validación final: 0.9700\n",
      "  Pérdida de validación final: 0.0990\n",
      "----------------------------------------\n",
      "Capa escondida: 200 neuronas\n",
      "  Precisión de validación final: 0.9764\n",
      "  Pérdida de validación final: 0.0794\n",
      "----------------------------------------\n",
      "Capa escondida: 300 neuronas\n",
      "  Precisión de validación final: 0.9783\n",
      "  Pérdida de validación final: 0.0684\n",
      "----------------------------------------\n"
     ]
    }
   ],
   "source": [
    "from tensorflow import keras\n",
    "from tensorflow.keras import layers\n",
    "\n",
    "# crear y entrenar el modelo con diferente tamaño de capa escondida\n",
    "def entrenar_modelo(hidden_units):\n",
    "    model = keras.Sequential([\n",
    "        layers.Flatten(input_shape=(28, 28)),\n",
    "        layers.Dense(hidden_units, activation='relu'),\n",
    "        layers.Dense(10, activation='softmax')\n",
    "    ])\n",
    "    model.compile(optimizer='adam',\n",
    "                  loss='categorical_crossentropy',\n",
    "                  metrics=['accuracy'])\n",
    "    history = model.fit(X_entreno, y_entreno, epochs=5, batch_size=128, \n",
    "                        validation_data=(X_prueba, y_prueba), verbose=0)\n",
    "    val_acc = history.history['val_accuracy'][-1]\n",
    "    val_loss = history.history['val_loss'][-1]\n",
    "    print(f\"Capa escondida: {hidden_units} neuronas\")\n",
    "    print(f\"  Precisión de validación final: {val_acc:.4f}\")\n",
    "    print(f\"  Pérdida de validación final: {val_loss:.4f}\")\n",
    "    print(\"-\" * 40)\n",
    "    return val_acc, val_loss\n",
    "\n",
    "# Probar diferentes tamaños de capa escondida\n",
    "for unidades in [50, 100, 200, 300, 500]:\n",
    "    entrenar_modelo(unidades)\n"
   ]
  }
 ],
 "metadata": {
  "kernelspec": {
   "display_name": "Python 3",
   "language": "python",
   "name": "python3"
  },
  "language_info": {
   "codemirror_mode": {
    "name": "ipython",
    "version": 3
   },
   "file_extension": ".py",
   "mimetype": "text/x-python",
   "name": "python",
   "nbconvert_exporter": "python",
   "pygments_lexer": "ipython3",
   "version": "3.13.5"
  }
 },
 "nbformat": 4,
 "nbformat_minor": 5
}
