{
 "cells": [
  {
   "cell_type": "markdown",
   "id": "c3bc909c",
   "metadata": {},
   "source": [
    "### LABORATORIO #2 \n",
    "\n",
    "- Diego Duarte\n",
    "- Paula Barilals"
   ]
  },
  {
   "cell_type": "code",
   "execution_count": 2,
   "id": "d5ee5ada",
   "metadata": {},
   "outputs": [
    {
     "name": "stdout",
     "output_type": "stream",
     "text": [
      "Datos de entrenamiento: 60000\n",
      "Datos de prueba: 10000\n",
      "Forma de X_entreno: (60000, 28, 28)\n",
      "Forma de X_prueba: (10000, 28, 28)\n"
     ]
    },
    {
     "data": {
      "image/png": "[encoded data removed]",
      "text/plain": [
       "<Figure size 640x480 with 1 Axes>"
      ]
     },
     "metadata": {},
     "output_type": "display_data"
    }
   ],
   "source": [
    "import numpy as np\n",
    "import tensorflow as tf\n",
    "\n",
    "(X_entreno, y_entreno), (X_prueba, y_prueba) = tf.keras.datasets.mnist.load_data()\n",
    "\n",
    "# Imprimir cantidad de datos de entrenamiento y prueba\n",
    "print(f\"Datos de entrenamiento: {X_entreno.shape[0]}\")\n",
    "print(f\"Datos de prueba: {X_prueba.shape[0]}\")\n",
    "\n",
    "# Mostrar forma de los datos\n",
    "print(f\"Forma de X_entreno: {X_entreno.shape}\")\n",
    "print(f\"Forma de X_prueba: {X_prueba.shape}\")\n",
    "\n",
    "# Preprocesamiento: normalizar imágenes a rango [0, 1]\n",
    "X_entreno = X_entreno.astype('float32') / 255.0\n",
    "X_prueba = X_prueba.astype('float32') / 255.0\n",
    "\n",
    "# Convertir etiquetas a one-hot encoding\n",
    "y_entreno = tf.keras.utils.to_categorical(y_entreno, 10)\n",
    "y_prueba = tf.keras.utils.to_categorical(y_prueba, 10)\n",
    "\n",
    "# ejemplo de imagen y etiqueta\n",
    "import matplotlib.pyplot as plt\n",
    "plt.imshow(X_entreno[0], cmap='gray')\n",
    "plt.title(f\"Etiqueta: {np.argmax(y_entreno[0])}\")\n",
    "plt.show()"
   ]
  },
  {
   "cell_type": "markdown",
   "id": "5006f77d",
   "metadata": {},
   "source": [
    "### 1. Modificación del Ancho de la Red (8 puntos)\n",
    "- Modifique el tamaño de la capa escondida a 200 neuronas.\n",
    "- Experimente con diferentes tamaños de capa escondida (50, 100, 300, 500) y determine\n",
    "cuál ofrece el mejor rendimiento\n",
    "\n",
    "1. ¿Cómo cambia la precisión de validación del modelo?\n",
    "\n",
    "2. ¿Cuánto tiempo tarda el algoritmo en entrenar?\n",
    "\n"
   ]
  },
  {
   "cell_type": "code",
   "execution_count": 4,
   "id": "750e7e0d",
   "metadata": {},
   "outputs": [
    {
     "name": "stdout",
     "output_type": "stream",
     "text": [
      "Capa escondida: 50 neuronas\n",
      "  Precisión de validación final: 0.9614\n",
      "  Pérdida de validación final: 0.1261\n",
      "----------------------------------------\n",
      "Capa escondida: 100 neuronas\n",
      "  Precisión de validación final: 0.9704\n",
      "  Pérdida de validación final: 0.1000\n",
      "----------------------------------------\n",
      "Capa escondida: 200 neuronas\n",
      "  Precisión de validación final: 0.9783\n",
      "  Pérdida de validación final: 0.0782\n",
      "----------------------------------------\n",
      "Capa escondida: 300 neuronas\n",
      "  Precisión de validación final: 0.9781\n",
      "  Pérdida de validación final: 0.0735\n",
      "----------------------------------------\n",
      "Capa escondida: 500 neuronas\n",
      "  Precisión de validación final: 0.9778\n",
      "  Pérdida de validación final: 0.0647\n",
      "----------------------------------------\n"
     ]
    }
   ],
   "source": [
    "from tensorflow import keras\n",
    "from tensorflow.keras import layers\n",
    "\n",
    "# crear y entrenar el modelo con diferente tamaño de capa escondida\n",
    "def entrenar_modelo(hidden_units):\n",
    "    model = keras.Sequential([\n",
    "        layers.Flatten(input_shape=(28, 28)),\n",
    "        layers.Dense(hidden_units, activation='relu'),\n",
    "        layers.Dense(10, activation='softmax')\n",
    "    ])\n",
    "    model.compile(optimizer='adam',\n",
    "                  loss='categorical_crossentropy',\n",
    "                  metrics=['accuracy'])\n",
    "    history = model.fit(X_entreno, y_entreno, epochs=5, batch_size=128, \n",
    "                        validation_data=(X_prueba, y_prueba), verbose=0)\n",
    "    val_acc = history.history['val_accuracy'][-1]\n",
    "    val_loss = history.history['val_loss'][-1]\n",
    "    print(f\"Capa escondida: {hidden_units} neuronas\")\n",
    "    print(f\"  Precisión de validación final: {val_acc:.4f}\")\n",
    "    print(f\"  Pérdida de validación final: {val_loss:.4f}\")\n",
    "    print(\"-\" * 40)\n",
    "    return val_acc, val_loss\n",
    "\n",
    "# Probar diferentes tamaños de capa escondida\n",
    "for unidades in [50, 100, 200, 300, 500]:\n",
    "    entrenar_modelo(unidades)\n"
   ]
  },
  {
   "cell_type": "markdown",
   "id": "54b46ae1",
   "metadata": {},
   "source": [
    "### 2. Modificación de la Profundidad de la Red\n",
    "Agregue una capa escondida adicional al modelo.\n",
    "- Documente cuidadosamente las dimensiones de los pesos y sesgos\n",
    "- Compare la precisión de validación con el modelo original\n",
    "\n",
    "1. Analice el impacto en el tiempo de ejecución\n",
    "2. Explique los cambios necesarios en el código para implementar esta modificación"
   ]
  },
  {
   "cell_type": "code",
   "execution_count": 5,
   "id": "e2947c84",
   "metadata": {},
   "outputs": [
    {
     "name": "stdout",
     "output_type": "stream",
     "text": [
      "Capas escondidas: 200 y 100 neuronas\n",
      "  Precisión de validación final: 0.9761\n",
      "  Pérdida de validación final: 0.0721\n",
      "----------------------------------------\n",
      "Capa 0: pesos None, sesgos None\n",
      "Capa 1: pesos (784, 200), sesgos (200,)\n",
      "Capa 2: pesos (200, 100), sesgos (100,)\n",
      "Capa 3: pesos (100, 10), sesgos (10,)\n",
      "----------------------------------------\n"
     ]
    },
    {
     "data": {
      "text/plain": [
       "(0.9761000275611877, 0.07214768975973129)"
      ]
     },
     "execution_count": 5,
     "metadata": {},
     "output_type": "execute_result"
    }
   ],
   "source": [
    "from tensorflow import keras\n",
    "from tensorflow.keras import layers\n",
    "\n",
    "# Modelo con dos capas escondidas\n",
    "def entrenar_modelo2c(hidden_units1, hidden_units2):\n",
    "    model = keras.Sequential([\n",
    "        layers.Flatten(input_shape=(28, 28)),\n",
    "        layers.Dense(hidden_units1, activation='relu'),\n",
    "        layers.Dense(hidden_units2, activation='relu'),\n",
    "        layers.Dense(10, activation='softmax')\n",
    "    ])\n",
    "    model.compile(optimizer='adam',\n",
    "                  loss='categorical_crossentropy',\n",
    "                  metrics=['accuracy'])\n",
    "    history = model.fit(X_entreno, y_entreno, epochs=5, batch_size=128,\n",
    "                        validation_data=(X_prueba, y_prueba), verbose=0)\n",
    "    val_acc = history.history['val_accuracy'][-1]\n",
    "    val_loss = history.history['val_loss'][-1]\n",
    "    print(f\"Capas escondidas: {hidden_units1} y {hidden_units2} neuronas\")\n",
    "    print(f\"  Precisión de validación final: {val_acc:.4f}\")\n",
    "    print(f\"  Pérdida de validación final: {val_loss:.4f}\")\n",
    "    print(\"-\" * 40)\n",
    "    # Dimensiones de pesos y sesgos\n",
    "    for i, layer in enumerate(model.layers):\n",
    "        if hasattr(layer, 'weights'):\n",
    "            pesos = layer.get_weights()[0].shape if layer.get_weights() else None\n",
    "            sesgos = layer.get_weights()[1].shape if layer.get_weights() else None\n",
    "            print(f\"Capa {i}: pesos {pesos}, sesgos {sesgos}\")\n",
    "    print(\"-\" * 40)\n",
    "    return val_acc, val_loss\n",
    "\n",
    "# prueba con 200 y 100 neuronas\n",
    "entrenar_modelo2c(200, 100)"
   ]
  },
  {
   "cell_type": "markdown",
   "id": "759ca9d1",
   "metadata": {},
   "source": [
    "### 3. Redes Profundas\n",
    "Experimente con arquitecturas más profundas, llegando hasta 5 capas escondidas.\n",
    "- Ajuste el ancho de cada capa según considere conveniente\n",
    "- Documente la precisión de validación para cada configuración\n",
    "- Analice la relación entre profundidad y tiempo de ejecución\n",
    "- Identifique posibles problemas de desvanecimiento del gradiente"
   ]
  },
  {
   "cell_type": "code",
   "execution_count": 6,
   "id": "0805bc3b",
   "metadata": {},
   "outputs": [
    {
     "name": "stdout",
     "output_type": "stream",
     "text": [
      "Arquitectura: [100] neuronas por capa\n",
      "  Precisión de validación final: 0.9698\n",
      "  Pérdida de validación final: 0.0970\n",
      "  Tiempo de entrenamiento: 17.32 segundos\n",
      "----------------------------------------\n",
      "Capa 1: pesos (784, 100), sesgos (100,)\n",
      "Capa 2: pesos (100, 10), sesgos (10,)\n",
      "----------------------------------------\n",
      "Arquitectura: [200, 100] neuronas por capa\n",
      "  Precisión de validación final: 0.9735\n",
      "  Pérdida de validación final: 0.0805\n",
      "  Tiempo de entrenamiento: 20.84 segundos\n",
      "----------------------------------------\n",
      "Capa 1: pesos (784, 200), sesgos (200,)\n",
      "Capa 2: pesos (200, 100), sesgos (100,)\n",
      "Capa 3: pesos (100, 10), sesgos (10,)\n",
      "----------------------------------------\n",
      "Arquitectura: [200, 150, 100] neuronas por capa\n",
      "  Precisión de validación final: 0.9731\n",
      "  Pérdida de validación final: 0.0893\n",
      "  Tiempo de entrenamiento: 24.25 segundos\n",
      "----------------------------------------\n",
      "Capa 1: pesos (784, 200), sesgos (200,)\n",
      "Capa 2: pesos (200, 150), sesgos (150,)\n",
      "Capa 3: pesos (150, 100), sesgos (100,)\n",
      "Capa 4: pesos (100, 10), sesgos (10,)\n",
      "----------------------------------------\n",
      "Arquitectura: [300, 200, 150, 100] neuronas por capa\n",
      "  Precisión de validación final: 0.9762\n",
      "  Pérdida de validación final: 0.0741\n",
      "  Tiempo de entrenamiento: 24.88 segundos\n",
      "----------------------------------------\n",
      "Capa 1: pesos (784, 300), sesgos (300,)\n",
      "Capa 2: pesos (300, 200), sesgos (200,)\n",
      "Capa 3: pesos (200, 150), sesgos (150,)\n",
      "Capa 4: pesos (150, 100), sesgos (100,)\n",
      "Capa 5: pesos (100, 10), sesgos (10,)\n",
      "----------------------------------------\n",
      "Arquitectura: [500, 400, 300, 200, 100] neuronas por capa\n",
      "  Precisión de validación final: 0.9788\n",
      "  Pérdida de validación final: 0.0767\n",
      "  Tiempo de entrenamiento: 40.17 segundos\n",
      "----------------------------------------\n",
      "Capa 1: pesos (784, 500), sesgos (500,)\n",
      "Capa 2: pesos (500, 400), sesgos (400,)\n",
      "Capa 3: pesos (400, 300), sesgos (300,)\n",
      "Capa 4: pesos (300, 200), sesgos (200,)\n",
      "Capa 5: pesos (200, 100), sesgos (100,)\n",
      "Capa 6: pesos (100, 10), sesgos (10,)\n",
      "----------------------------------------\n"
     ]
    }
   ],
   "source": [
    "import time\n",
    "\n",
    "# Función para entrenar modelos con hasta 5 capas escondidas\n",
    "def entrenar_red(hidden_units_list):\n",
    "    model = keras.Sequential()\n",
    "    model.add(layers.Flatten(input_shape=(28, 28)))\n",
    "    for units in hidden_units_list:\n",
    "        model.add(layers.Dense(units, activation='relu'))\n",
    "    model.add(layers.Dense(10, activation='softmax'))\n",
    "\n",
    "    model.compile(optimizer='adam',\n",
    "                  loss='categorical_crossentropy',\n",
    "                  metrics=['accuracy'])\n",
    "\n",
    "    start = time.time()\n",
    "    history = model.fit(X_entreno, y_entreno, epochs=5, batch_size=128,\n",
    "                        validation_data=(X_prueba, y_prueba), verbose=0)\n",
    "    end = time.time()\n",
    "    val_acc = history.history['val_accuracy'][-1]\n",
    "    val_loss = history.history['val_loss'][-1]\n",
    "    print(f\"Arquitectura: {hidden_units_list} neuronas por capa\")\n",
    "    print(f\"  Precisión de validación final: {val_acc:.4f}\")\n",
    "    print(f\"  Pérdida de validación final: {val_loss:.4f}\")\n",
    "    print(f\"  Tiempo de entrenamiento: {end - start:.2f} segundos\")\n",
    "    print(\"-\" * 40)\n",
    "    # dimensiones de pesos y sesgos\n",
    "    for i, layer in enumerate(model.layers):\n",
    "        if hasattr(layer, 'weights') and layer.get_weights():\n",
    "            pesos = layer.get_weights()[0].shape\n",
    "            sesgos = layer.get_weights()[1].shape\n",
    "            print(f\"Capa {i}: pesos {pesos}, sesgos {sesgos}\")\n",
    "    print(\"-\" * 40)\n",
    "    return val_acc, val_loss\n",
    "\n",
    "# arquitecturas profundas\n",
    "arquitecturas = [\n",
    "    [100],\n",
    "    [200, 100],\n",
    "    [200, 150, 100],\n",
    "    [300, 200, 150, 100],\n",
    "    [500, 400, 300, 200, 100]\n",
    "]\n",
    "\n",
    "for config in arquitecturas:\n",
    "    entrenar_red(config)\n",
    "    "
   ]
  },
  {
   "cell_type": "markdown",
   "id": "c7ee60ef",
   "metadata": {},
   "source": [
    "### 4. Funciones de Activación I \n",
    "Aplique la función de activación sigmoidal a todas las capas.\n",
    "- Compare el rendimiento con las activaciones originales\n",
    "- Analice el impacto en la velocidad de convergencia"
   ]
  },
  {
   "cell_type": "code",
   "execution_count": 9,
   "id": "5d8f8c77",
   "metadata": {},
   "outputs": [
    {
     "name": "stdout",
     "output_type": "stream",
     "text": [
      "\n",
      "Comparando para 50 neuronas en la capa escondida:\n",
      "[ReLU] 50 neuronas - Precisión: 0.9610 - Pérdida: 0.1271 - Tiempo: 13.20s\n",
      "[Sigmoide] 50 neuronas - Precisión: 0.9465 - Pérdida: 0.1874 - Tiempo: 12.77s\n",
      "\n",
      "Comparando para 100 neuronas en la capa escondida:\n",
      "[ReLU] 100 neuronas - Precisión: 0.9697 - Pérdida: 0.1017 - Tiempo: 15.14s\n",
      "[Sigmoide] 100 neuronas - Precisión: 0.9534 - Pérdida: 0.1577 - Tiempo: 19.65s\n",
      "\n",
      "Comparando para 200 neuronas en la capa escondida:\n",
      "[ReLU] 200 neuronas - Precisión: 0.9752 - Pérdida: 0.0765 - Tiempo: 20.19s\n",
      "[Sigmoide] 200 neuronas - Precisión: 0.9590 - Pérdida: 0.1370 - Tiempo: 19.70s\n",
      "\n",
      "Comparando para 300 neuronas en la capa escondida:\n",
      "[ReLU] 300 neuronas - Precisión: 0.9756 - Pérdida: 0.0770 - Tiempo: 19.09s\n",
      "[Sigmoide] 300 neuronas - Precisión: 0.9607 - Pérdida: 0.1277 - Tiempo: 19.26s\n",
      "\n",
      "Comparando para 500 neuronas en la capa escondida:\n",
      "[ReLU] 500 neuronas - Precisión: 0.9798 - Pérdida: 0.0645 - Tiempo: 22.06s\n",
      "[Sigmoide] 500 neuronas - Precisión: 0.9635 - Pérdida: 0.1200 - Tiempo: 23.13s\n"
     ]
    }
   ],
   "source": [
    "# Función para entrenar el modelo usando activación ReLU\n",
    "def entrenar_relu(hidden_units):\n",
    "    model = keras.Sequential([\n",
    "        layers.Flatten(input_shape=(28, 28)),\n",
    "        layers.Dense(hidden_units, activation='relu'),\n",
    "        layers.Dense(10, activation='softmax')\n",
    "    ])\n",
    "    model.compile(optimizer='adam',\n",
    "                  loss='categorical_crossentropy',\n",
    "                  metrics=['accuracy'])\n",
    "    start = time.time()\n",
    "    history = model.fit(X_entreno, y_entreno, epochs=5, batch_size=128,\n",
    "                        validation_data=(X_prueba, y_prueba), verbose=0)\n",
    "    end = time.time()\n",
    "    val_acc = history.history['val_accuracy'][-1]\n",
    "    val_loss = history.history['val_loss'][-1]\n",
    "    print(f\"[ReLU] {hidden_units} neuronas - Precisión: {val_acc:.4f} - Pérdida: {val_loss:.4f} - Tiempo: {end-start:.2f}s\")\n",
    "    return val_acc, val_loss, end-start\n",
    "\n",
    "# Función para entrenar el modelo usando activación sigmoidal\n",
    "def entrenar_sigmoide(hidden_units):\n",
    "    model = keras.Sequential([\n",
    "        layers.Flatten(input_shape=(28, 28)),\n",
    "        layers.Dense(hidden_units, activation='sigmoid'),\n",
    "        layers.Dense(10, activation='softmax')\n",
    "    ])\n",
    "    model.compile(optimizer='adam',\n",
    "                  loss='categorical_crossentropy',\n",
    "                  metrics=['accuracy'])\n",
    "    start = time.time()\n",
    "    history = model.fit(X_entreno, y_entreno, epochs=5, batch_size=128,\n",
    "                        validation_data=(X_prueba, y_prueba), verbose=0)\n",
    "    end = time.time()\n",
    "    val_acc = history.history['val_accuracy'][-1]\n",
    "    val_loss = history.history['val_loss'][-1]\n",
    "    print(f\"[Sigmoide] {hidden_units} neuronas - Precisión: {val_acc:.4f} - Pérdida: {val_loss:.4f} - Tiempo: {end-start:.2f}s\")\n",
    "    return val_acc, val_loss, end-start\n",
    "\n",
    "# Comparar rendimiento y velocidad de convergencia\n",
    "for unidades in [50, 100, 200, 300, 500]:\n",
    "    print(f\"\\nComparando para {unidades} neuronas en la capa escondida:\")\n",
    "    entrenar_relu(unidades)\n",
    "    entrenar_sigmoide(unidades)\n",
    "    "
   ]
  },
  {
   "cell_type": "markdown",
   "id": "50abe336",
   "metadata": {},
   "source": [
    "### 5. Funciones de Activación II \n",
    "Aplique ReLU a la primera capa escondida y tanh a la segunda\n",
    "- Compare el rendimiento con las configuraciones anteriores\n",
    "- Explique las ventajas y desventajas de cada función de activación"
   ]
  },
  {
   "cell_type": "code",
   "execution_count": 11,
   "id": "493d0607",
   "metadata": {},
   "outputs": [
    {
     "name": "stdout",
     "output_type": "stream",
     "text": [
      "\n",
      "Comparando para 200 y 100 neuronas:\n",
      "[ReLU-Tanh] 200 y 100 neuronas - Precisión: 0.9793 - Pérdida: 0.0700 - Tiempo: 23.49s\n",
      "----------------------------------------\n",
      "\n",
      "Comparando para 300 y 200 neuronas:\n",
      "[ReLU-Tanh] 300 y 200 neuronas - Precisión: 0.9780 - Pérdida: 0.0721 - Tiempo: 22.23s\n",
      "----------------------------------------\n",
      "\n",
      "Comparando para 500 y 300 neuronas:\n",
      "[ReLU-Tanh] 500 y 300 neuronas - Precisión: 0.9770 - Pérdida: 0.0780 - Tiempo: 30.05s\n",
      "----------------------------------------\n",
      "\n",
      "Comparando para 500 y 500 neuronas:\n",
      "[ReLU-Tanh] 500 y 500 neuronas - Precisión: 0.9778 - Pérdida: 0.0837 - Tiempo: 26.26s\n",
      "----------------------------------------\n"
     ]
    }
   ],
   "source": [
    "# Modelo con ReLU en la primera capa escondida y tanh en la segunda\n",
    "def ReLU_tanh(hidden_units1, hidden_units2):\n",
    "    model = keras.Sequential([\n",
    "        layers.Flatten(input_shape=(28, 28)),\n",
    "        layers.Dense(hidden_units1, activation='relu'),\n",
    "        layers.Dense(hidden_units2, activation='tanh'),\n",
    "        layers.Dense(10, activation='softmax')\n",
    "    ])\n",
    "    model.compile(optimizer='adam',\n",
    "                  loss='categorical_crossentropy',\n",
    "                  metrics=['accuracy'])\n",
    "    start = time.time()\n",
    "    history = model.fit(X_entreno, y_entreno, epochs=5, batch_size=128,\n",
    "                        validation_data=(X_prueba, y_prueba), verbose=0)\n",
    "    end = time.time()\n",
    "    val_acc = history.history['val_accuracy'][-1]\n",
    "    val_loss = history.history['val_loss'][-1]\n",
    "    print(f\"[ReLU-Tanh] {hidden_units1} y {hidden_units2} neuronas - Precisión: {val_acc:.4f} - Pérdida: {val_loss:.4f} - Tiempo: {end-start:.2f}s\")\n",
    "    print(\"-\" * 40)\n",
    "    return val_acc, val_loss, end-start\n",
    "\n",
    "# Comparar con diferentes cantidades de neuronas\n",
    "configs = [(200, 100), (300, 200), (500, 300), (500, 500)]\n",
    "for h1, h2 in configs:\n",
    "    print(f\"\\nComparando para {h1} y {h2} neuronas:\")\n",
    "    ReLU_tanh(h1, h2)"
   ]
  },
  {
   "cell_type": "markdown",
   "id": "197d0447",
   "metadata": {},
   "source": [
    "### 6. Tamaño de Batch Grande\n",
    "Modifique el tamaño de batch a 10,000.\n",
    "- Documente el cambio en el tiempo de entrenamiento\n",
    "- Analice el impacto en la precisión del modelo\n",
    "- Explique teóricamente por qué se observan estos cambios"
   ]
  },
  {
   "cell_type": "code",
   "execution_count": 13,
   "id": "86c0bda2",
   "metadata": {},
   "outputs": [
    {
     "name": "stdout",
     "output_type": "stream",
     "text": [
      "Batch size: 10000 | Neuronas: 200\n",
      "  Precisión de validación final: 0.8937\n",
      "  Pérdida de validación final: 0.3997\n",
      "  Tiempo de entrenamiento: 5.23 segundos\n",
      "----------------------------------------\n",
      "Batch size: 10000 | Neuronas: 500\n",
      "  Precisión de validación final: 0.9119\n",
      "  Pérdida de validación final: 0.3127\n",
      "  Tiempo de entrenamiento: 30.44 segundos\n",
      "----------------------------------------\n",
      "Batch size: 10000 | Neuronas: 1000\n",
      "  Precisión de validación final: 0.9203\n",
      "  Pérdida de validación final: 0.2763\n",
      "  Tiempo de entrenamiento: 11.36 segundos\n",
      "----------------------------------------\n"
     ]
    },
    {
     "data": {
      "text/plain": [
       "(0.9203000068664551, 0.27630770206451416, 11.35644245147705)"
      ]
     },
     "execution_count": 13,
     "metadata": {},
     "output_type": "execute_result"
    }
   ],
   "source": [
    "def entrenar_batch_grande(hidden_units, batch_size=10000):\n",
    "    model = keras.Sequential([\n",
    "        layers.Flatten(input_shape=(28, 28)),\n",
    "        layers.Dense(hidden_units, activation='relu'),\n",
    "        layers.Dense(10, activation='softmax')\n",
    "    ])\n",
    "    model.compile(optimizer='adam',\n",
    "                  loss='categorical_crossentropy',\n",
    "                  metrics=['accuracy'])\n",
    "    start = time.time()\n",
    "    history = model.fit(X_entreno, y_entreno, epochs=5, batch_size=batch_size,\n",
    "                        validation_data=(X_prueba, y_prueba), verbose=0)\n",
    "    end = time.time()\n",
    "    val_acc = history.history['val_accuracy'][-1]\n",
    "    val_loss = history.history['val_loss'][-1]\n",
    "    print(f\"Batch size: {batch_size} | Neuronas: {hidden_units}\")\n",
    "    print(f\"  Precisión de validación final: {val_acc:.4f}\")\n",
    "    print(f\"  Pérdida de validación final: {val_loss:.4f}\")\n",
    "    print(f\"  Tiempo de entrenamiento: {end - start:.2f} segundos\")\n",
    "    print(\"-\" * 40)\n",
    "    return val_acc, val_loss, end-start\n",
    "\n",
    "# 200 neuronas y batch grande\n",
    "entrenar_batch_grande(200, batch_size = 10000)\n",
    "# 500 neuronas y batch grande\n",
    "entrenar_batch_grande(500, batch_size = 10000)\n",
    "# 1000 neuronas y batch grande\n",
    "entrenar_batch_grande(1000, batch_size = 10000)"
   ]
  },
  {
   "cell_type": "markdown",
   "id": "d154b55f",
   "metadata": {},
   "source": [
    "### 7. Descenso de Gradiente Estocástico (SGD)\n",
    "Ajuste el tamaño de batch a 1 (SGD puro).\n",
    "- Compare el tiempo de ejecución con configuraciones anteriores\n",
    "- Analice la estabilidad y precisión del entrenamiento\n",
    "- Explique si los resultados son coherentes con la teoría"
   ]
  },
  {
   "cell_type": "code",
   "execution_count": null,
   "id": "84041d8e",
   "metadata": {},
   "outputs": [],
   "source": [
    "def entrenar_sgd(hidden_units, batch_size=1):\n",
    "    model = keras.Sequential([\n",
    "        layers.Flatten(input_shape=(28, 28)),\n",
    "        layers.Dense(hidden_units, activation='relu'),\n",
    "        layers.Dense(10, activation='softmax')\n",
    "    ])\n",
    "    model.compile(optimizer='adam',\n",
    "                  loss='categorical_crossentropy',\n",
    "                  metrics=['accuracy'])\n",
    "    start = time.time()\n",
    "    history = model.fit(X_entreno, y_entreno, epochs=5, batch_size=batch_size,\n",
    "                        validation_data=(X_prueba, y_prueba), verbose=0)\n",
    "    end = time.time()\n",
    "    val_acc = history.history['val_accuracy'][-1]\n",
    "    val_loss = history.history['val_loss'][-1]\n",
    "    print(f\"Batch size: {batch_size} | Neuronas: {hidden_units}\")\n",
    "    print(f\"  Precisión de validación final: {val_acc:.4f}\")\n",
    "    print(f\"  Pérdida de validación final: {val_loss:.4f}\")\n",
    "    print(f\"  Tiempo de entrenamiento: {end - start:.2f} segundos\")\n",
    "    print(\"-\" * 40)\n",
    "    return val_acc, val_loss, end-start\n",
    "\n",
    "# 200 neuronas y batch=1 (SGD puro)\n",
    "entrenar_sgd(200, batch_size = 1)\n",
    "# 500 neuronas y batch=1 (SGD puro)\n",
    "entrenar_sgd(500, batch_size = 1)\n",
    "# 1000 neuronas y batch=1 (SGD puro)\n",
    "entrenar_sgd(1000, batch_size = 1)\n"
   ]
  },
  {
   "cell_type": "markdown",
   "id": "9536f6e7",
   "metadata": {},
   "source": [
    "### 8. Tasa de Aprendizaje Baja\n",
    "Modifique la tasa de aprendizaje a 0.0001.\n",
    "- Documente el impacto en la convergencia del modelo\n",
    "- Analice si el modelo alcanza mejor precisión o se queda atrapado en mínimos locales"
   ]
  },
  {
   "cell_type": "code",
   "execution_count": null,
   "id": "ef24eceb",
   "metadata": {},
   "outputs": [],
   "source": [
    "def entrenar_lr_bajo(hidden_units, lr=0.0001):\n",
    "    model = keras.Sequential([\n",
    "        layers.Flatten(input_shape=(28, 28)),\n",
    "        layers.Dense(hidden_units, activation='relu'),\n",
    "        layers.Dense(10, activation='softmax')\n",
    "    ])\n",
    "    optimizer = keras.optimizers.Adam(learning_rate=lr)\n",
    "    model.compile(optimizer=optimizer,\n",
    "                  loss='categorical_crossentropy',\n",
    "                  metrics=['accuracy'])\n",
    "    start = time.time()\n",
    "    history = model.fit(X_entreno, y_entreno, epochs=5, batch_size=128,\n",
    "                        validation_data=(X_prueba, y_prueba), verbose=0)\n",
    "    end = time.time()\n",
    "    val_acc = history.history['val_accuracy'][-1]\n",
    "    val_loss = history.history['val_loss'][-1]\n",
    "    print(f\"Tasa de aprendizaje: {lr} | Neuronas: {hidden_units}\")\n",
    "    print(f\"  Precisión de validación final: {val_acc:.4f}\")\n",
    "    print(f\"  Pérdida de validación final: {val_loss:.4f}\")\n",
    "    print(f\"  Tiempo de entrenamiento: {end - start:.2f} segundos\")\n",
    "    print(\"-\" * 40)\n",
    "    return val_acc, val_loss, end-start\n",
    "\n",
    "# 200 neuronas y tasa de aprendizaje baja\n",
    "entrenar_lr_bajo(200, lr = 0.0001)\n",
    "# 500 neuronas y tasa de aprendizaje baja\n",
    "entrenar_lr_bajo(500, lr = 0.0001)\n",
    "# 1000 neuronas y tasa de aprendizaje baja\n",
    "entrenar_lr_bajo(1000, lr = 0.0001)\n"
   ]
  },
  {
   "cell_type": "markdown",
   "id": "204dad08",
   "metadata": {},
   "source": [
    "### 9. Tasa de Aprendizaje Alta \n",
    "Ajuste la tasa de aprendizaje a 0.02.\n",
    "- Documente el impacto en la estabilidad del entrenamiento\n",
    "- Analice si se produce divergencia o mejora en la velocidad de convergencia"
   ]
  },
  {
   "cell_type": "code",
   "execution_count": null,
   "id": "62edffb7",
   "metadata": {},
   "outputs": [],
   "source": [
    "\n",
    "def entrenar_lr_alta(hidden_units, lr=0.02):\n",
    "    model = keras.Sequential([\n",
    "        layers.Flatten(input_shape=(28, 28)),\n",
    "        layers.Dense(hidden_units, activation='relu'),\n",
    "        layers.Dense(10, activation='softmax')\n",
    "    ])\n",
    "    optimizer = keras.optimizers.Adam(learning_rate=lr)\n",
    "    model.compile(optimizer=optimizer,\n",
    "                  loss='categorical_crossentropy',\n",
    "                  metrics=['accuracy'])\n",
    "    start = time.time()\n",
    "    history = model.fit(X_entreno, y_entreno, epochs=5, batch_size=128,\n",
    "                        validation_data=(X_prueba, y_prueba), verbose=0)\n",
    "    end = time.time()\n",
    "    val_acc = history.history['val_accuracy'][-1]\n",
    "    val_loss = history.history['val_loss'][-1]\n",
    "    print(f\"Tasa de aprendizaje: {lr} | Neuronas: {hidden_units}\")\n",
    "    print(f\"  Precisión de validación final: {val_acc:.4f}\")\n",
    "    print(f\"  Pérdida de validación final: {val_loss:.4f}\")\n",
    "    print(f\"  Tiempo de entrenamiento: {end - start:.2f} segundos\")\n",
    "    print(\"-\" * 40)\n",
    "    return val_acc, val_loss, end-start\n",
    "\n",
    "# 200 neuronas y tasa de aprendizaje alta\n",
    "entrenar_lr_alta(200, lr=0.02)\n",
    "# 500 neuronas y tasa de aprendizaje alta\n",
    "entrenar_lr_alta(500, lr=0.02)\n",
    "# 1000 neuronas y tasa de aprendizaje alta\n",
    "entrenar_lr_alta(1000, lr=0.02)"
   ]
  }
 ],
 "metadata": {
  "kernelspec": {
   "display_name": "Python 3",
   "language": "python",
   "name": "python3"
  },
  "language_info": {
   "codemirror_mode": {
    "name": "ipython",
    "version": 3
   },
   "file_extension": ".py",
   "mimetype": "text/x-python",
   "name": "python",
   "nbconvert_exporter": "python",
   "pygments_lexer": "ipython3",
   "version": "3.13.5"
  }
 },
 "nbformat": 4,
 "nbformat_minor": 5
}
